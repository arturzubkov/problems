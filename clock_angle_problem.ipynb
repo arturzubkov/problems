{
 "cells": [
  {
   "cell_type": "code",
   "execution_count": 5,
   "metadata": {},
   "outputs": [
    {
     "name": "stdout",
     "output_type": "stream",
     "text": [
      "Please input Hours\n",
      "Please input Minutes\n",
      "The angle between hours arrow and minutes arrow is  18.0 degrees\n"
     ]
    }
   ],
   "source": [
    "def compute_angle():\n",
    "    H=int(input(print(\"Please input Hours\")))\n",
    "    M=int(input(print(\"Please input Minutes\")))\n",
    "    if (H<0 or M<0 or H>12 or M>60):\n",
    "        print (\"Incorrect time format, please change your input\")\n",
    "    if (H==12):\n",
    "        H=0\n",
    "    if  (M == 60):\n",
    "         M = 0\n",
    "         H = H+1\n",
    "         if (H>12):\n",
    "             H = H-12 \n",
    "    Theta_H = 0.5 * (H*60 + M)   # Hour angle\n",
    "    Theta_M = 6 * M   # Minute angle\n",
    "    Diff = abs(Theta_H - Theta_M) # Angle between H and M\n",
    "    Angle = min(360 - Diff, Diff)\n",
    "    return print(\"The angle between hours arrow and minutes arrow is \",Angle, \"degrees\")\n",
    " \n",
    "compute_angle()"
   ]
  }
 ],
 "metadata": {
  "kernelspec": {
   "display_name": "Python 3",
   "language": "python",
   "name": "python3"
  },
  "language_info": {
   "codemirror_mode": {
    "name": "ipython",
    "version": 3
   },
   "file_extension": ".py",
   "mimetype": "text/x-python",
   "name": "python",
   "nbconvert_exporter": "python",
   "pygments_lexer": "ipython3",
   "version": "3.10.6"
  },
  "orig_nbformat": 4,
  "vscode": {
   "interpreter": {
    "hash": "7e1998ff7f8aa20ada591c520b972326324e5ea05489af9e422744c7c09f6dad"
   }
  }
 },
 "nbformat": 4,
 "nbformat_minor": 2
}
